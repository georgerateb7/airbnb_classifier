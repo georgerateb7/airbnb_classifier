{
  "nbformat": 4,
  "nbformat_minor": 0,
  "metadata": {
    "colab": {
      "provenance": [],
      "collapsed_sections": [
        "GV0MjJhEeer7",
        "ev_Cr5Ihejf5"
      ]
    },
    "kernelspec": {
      "name": "python3",
      "display_name": "Python 3"
    },
    "language_info": {
      "name": "python"
    }
  },
  "cells": [
    {
      "cell_type": "code",
      "execution_count": null,
      "metadata": {
        "id": "LMCpBPFgImtP"
      },
      "outputs": [],
      "source": [
        "# SVM\n",
        "# Logistic Regression\n",
        "# adaboost"
      ]
    },
    {
      "cell_type": "markdown",
      "source": [
        "## Imports"
      ],
      "metadata": {
        "id": "GV0MjJhEeer7"
      }
    },
    {
      "cell_type": "code",
      "source": [
        "from google.colab import files\n",
        "import io\n",
        "import numpy as np\n",
        "import pandas as pd\n",
        "from sklearn.metrics import confusion_matrix, accuracy_score, plot_roc_curve\n",
        "from sklearn.model_selection import GridSearchCV, train_test_split\n",
        "from sklearn.linear_model import LogisticRegression\n",
        "from sklearn.svm import SVC\n",
        "from sklearn.ensemble import AdaBoostClassifier\n",
        "import matplotlib.pyplot as plt"
      ],
      "metadata": {
        "id": "QGnb3XroJQSA"
      },
      "execution_count": null,
      "outputs": []
    },
    {
      "cell_type": "code",
      "source": [
        "  uploaded = files.upload()"
      ],
      "metadata": {
        "colab": {
          "resources": {
            "http://localhost:8080/nbextensions/google.colab/files.js": {
              "data": "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",
              "ok": true,
              "headers": [
                [
                  "content-type",
                  "application/javascript"
                ]
              ],
              "status": 200,
              "status_text": ""
            }
          },
          "base_uri": "https://localhost:8080/",
          "height": 107
        },
        "id": "8FuDrIzsJUPl",
        "outputId": "e5f26a11-a48b-44bd-bf22-f7f130e889d2"
      },
      "execution_count": null,
      "outputs": [
        {
          "output_type": "display_data",
          "data": {
            "text/html": [
              "\n",
              "     <input type=\"file\" id=\"files-6cf24b1e-f852-4176-8b19-3a23c151cd79\" name=\"files[]\" multiple disabled\n",
              "        style=\"border:none\" />\n",
              "     <output id=\"result-6cf24b1e-f852-4176-8b19-3a23c151cd79\">\n",
              "      Upload widget is only available when the cell has been executed in the\n",
              "      current browser session. Please rerun this cell to enable.\n",
              "      </output>\n",
              "      <script src=\"/nbextensions/google.colab/files.js\"></script> "
            ],
            "text/plain": [
              "<IPython.core.display.HTML object>"
            ]
          },
          "metadata": {}
        },
        {
          "output_type": "stream",
          "name": "stdout",
          "text": [
            "Saving test.csv to test (1).csv\n",
            "Saving train.csv to train (1).csv\n"
          ]
        }
      ]
    },
    {
      "cell_type": "markdown",
      "source": [
        "## Basic Preprocessing"
      ],
      "metadata": {
        "id": "ev_Cr5Ihejf5"
      }
    },
    {
      "cell_type": "code",
      "source": [
        "train_df = pd.read_csv(io.BytesIO(uploaded['train.csv']))\n",
        "test_df = pd.read_csv(io.BytesIO(uploaded['test.csv']))\n",
        "\n",
        "alldat = train_df.append(test_df, sort=True)"
      ],
      "metadata": {
        "id": "c-jh4MbNJhtd"
      },
      "execution_count": null,
      "outputs": []
    },
    {
      "cell_type": "code",
      "source": [
        "# Price and Bathrooms\n",
        "print(alldat[\"Bathrooms_text\"].unique())\n",
        "alldat[\"Price\"] = alldat[\"Price\"].replace('[\\$,]', '', regex=True).astype(float)"
      ],
      "metadata": {
        "colab": {
          "base_uri": "https://localhost:8080/"
        },
        "id": "7wq9wOYsRMBU",
        "outputId": "3360f948-c383-42a6-ed4c-cf6c0ab56776"
      },
      "execution_count": null,
      "outputs": [
        {
          "output_type": "stream",
          "name": "stdout",
          "text": [
            "['1 bath' '1 private bath' '2 baths' '1.5 baths' '3 baths' '2.5 baths'\n",
            " '6 baths' '5 baths' '1 shared bath' '3.5 baths' '1.5 shared baths'\n",
            " '4.5 baths' '2.5 shared baths' '4 baths' 'Private half-bath' 'Half-bath'\n",
            " '9 baths' '2 shared baths' '6.5 baths' '0 shared baths' '0 baths'\n",
            " '5.5 baths' '7 baths' '7.5 baths']\n"
          ]
        }
      ]
    },
    {
      "cell_type": "code",
      "source": [
        "cat_names = [\"Host_response_time\",\n",
        "             \"Host_is_superhost\",\n",
        "             \"Host_has_profile_pic\",\n",
        "             \"Host_identity_verified\",\n",
        "             \"Neighbourhood\",\n",
        "             \"Property_type\",\n",
        "             \"Room_type\",\n",
        "             \"Instant_bookable\",\n",
        "             \"Month\",\n",
        "             \"Parking\",\n",
        "             \"Balcony\",\n",
        "             \"Bathrooms_text\"] #choosing to treat as categorical because it is not unreasonable to believe\n",
        "                               #a consumer would treat regular vs private vs shared baths and half baths differently,\n",
        "                               # and it is not unreasonable to expect there to be an interaction between these and the\n",
        "                               # numeric value of of baths\n",
        "                               # in a future analysis, i would want to test these assumptions\n",
        "\n",
        "\n",
        "num_names = [\"Accommodates\",\n",
        "             \"Bedrooms\",\n",
        "             \"Beds\",\n",
        "             \"Essentials\",\n",
        "             \"Cooking\",\n",
        "             \"Number_of_reviews\",\n",
        "             \"Review_scores_rating\",\n",
        "             \"Price\"]"
      ],
      "metadata": {
        "id": "LoTKS-mXQb-_"
      },
      "execution_count": null,
      "outputs": []
    },
    {
      "cell_type": "code",
      "source": [
        "print(alldat[cat_names].isna().sum())"
      ],
      "metadata": {
        "colab": {
          "base_uri": "https://localhost:8080/"
        },
        "id": "svk6QV9rV0Ct",
        "outputId": "f7ba5a39-5a03-43e0-8dbd-386a4d692121"
      },
      "execution_count": null,
      "outputs": [
        {
          "output_type": "stream",
          "name": "stdout",
          "text": [
            "Host_response_time        1151\n",
            "Host_is_superhost          112\n",
            "Host_has_profile_pic       112\n",
            "Host_identity_verified     112\n",
            "Neighbourhood                0\n",
            "Property_type                0\n",
            "Room_type                    0\n",
            "Instant_bookable             0\n",
            "Month                        0\n",
            "Parking                      0\n",
            "Balcony                      0\n",
            "Bathrooms_text               0\n",
            "dtype: int64\n"
          ]
        }
      ]
    },
    {
      "cell_type": "markdown",
      "source": [
        "I'm going to treat all categorical missing variables as having a categorical value, as the airbnb consumer likely uses the fact that the information is missing in their determinination of whether or not to book."
      ],
      "metadata": {
        "id": "Htx24UxabxJO"
      }
    },
    {
      "cell_type": "code",
      "source": [
        "alldat[\"Host_response_time\"] = alldat[\"Host_response_time\"].fillna(\"Missing\")\n",
        "alldat[\"Host_is_superhost\"] = alldat[\"Host_is_superhost\"].fillna(\"Missing\")\n",
        "alldat[\"Host_has_profile_pic\"] = alldat[\"Host_has_profile_pic\"].fillna(\"Missing\")\n",
        "alldat[\"Host_identity_verified\"] = alldat[\"Host_identity_verified\"].fillna(\"Missing\")"
      ],
      "metadata": {
        "id": "940DjOCua2ci"
      },
      "execution_count": null,
      "outputs": []
    },
    {
      "cell_type": "code",
      "source": [
        "print(alldat[num_names].isna().sum())"
      ],
      "metadata": {
        "colab": {
          "base_uri": "https://localhost:8080/"
        },
        "id": "aZoVrN11axGw",
        "outputId": "8691c7d9-36ae-47a4-f375-6352b387681c"
      },
      "execution_count": null,
      "outputs": [
        {
          "output_type": "stream",
          "name": "stdout",
          "text": [
            "Accommodates              0\n",
            "Bedrooms                734\n",
            "Beds                     22\n",
            "Essentials                0\n",
            "Cooking                   0\n",
            "Number_of_reviews         0\n",
            "Review_scores_rating    669\n",
            "Price                     0\n",
            "dtype: int64\n"
          ]
        }
      ]
    },
    {
      "cell_type": "markdown",
      "source": [
        "I'm going to make some informed decisions that are going to impact the outcome. I believed that having an \"NA\" review (Review_scores_rating == na) is categorically different than having any specific rating. As such, we impute Review_scores_rating for NAs to be the the mean value, but in addition create a new feature that is = 1 when Review_scores_rating is missing to signifiy the lack of reviews interaction.\n",
        "\n",
        "For the missing bedrooms and beds, I do a similar thing where I impute the mean and create an indicator for if the value was missing.[link text](https://)"
      ],
      "metadata": {
        "id": "QtqRLbBabwBh"
      }
    },
    {
      "cell_type": "code",
      "source": [
        "missing_scores = alldat[alldat[\"Review_scores_rating\"].isna()]\n",
        "print(missing_scores[\"Number_of_reviews\"].value_counts())\n",
        "print(alldat[\"Bedrooms\"].value_counts())\n",
        "missing_beds = alldat[alldat[\"Bedrooms\"].isna()]\n",
        "print(missing_beds[\"Beds\"].value_counts())\n",
        "print(missing_beds[\"Beds\"].isna().sum())"
      ],
      "metadata": {
        "colab": {
          "base_uri": "https://localhost:8080/"
        },
        "id": "0XwDaR-cWoBo",
        "outputId": "b73608a8-6a2e-4aa2-c1ae-f1d4835c33fd"
      },
      "execution_count": null,
      "outputs": [
        {
          "output_type": "stream",
          "name": "stdout",
          "text": [
            "0    669\n",
            "Name: Number_of_reviews, dtype: int64\n",
            "1.0    4685\n",
            "2.0    2418\n",
            "3.0    1332\n",
            "4.0     503\n",
            "5.0     134\n",
            "6.0      66\n",
            "7.0      23\n",
            "8.0      12\n",
            "9.0       4\n",
            "Name: Bedrooms, dtype: int64\n",
            "1.0    467\n",
            "2.0    202\n",
            "0.0     44\n",
            "3.0     11\n",
            "4.0      4\n",
            "Name: Beds, dtype: int64\n",
            "6\n"
          ]
        }
      ]
    },
    {
      "cell_type": "code",
      "source": [
        "bedrooms = alldat[\"Bedrooms\"]\n",
        "beds = alldat[\"Beds\"]\n",
        "ratings = alldat[\"Review_scores_rating\"]\n",
        "alldat[\"Missing_Bedrooms\"] = bedrooms.isna()\n",
        "alldat[\"Missing_Beds\"] = beds.isna()\n",
        "alldat[\"Missing_Ratings\"] = ratings.isna()\n",
        "alldat[\"Bedrooms\"] = bedrooms.fillna(np.mean(bedrooms))\n",
        "alldat[\"Beds\"] = beds.fillna(np.mean(beds))\n",
        "alldat[\"Review_scores_rating\"] = ratings.fillna(np.mean(ratings))\n",
        "alldat[\"Review_num_score\"] = alldat[\"Review_scores_rating\"]*alldat[\"Number_of_reviews\"]\n",
        "num_names = num_names + [\"Review_num_score\"]"
      ],
      "metadata": {
        "id": "6hRPf9zQZd4T"
      },
      "execution_count": null,
      "outputs": []
    },
    {
      "cell_type": "code",
      "source": [
        "df = pd.get_dummies(alldat, prefix = cat_names, columns = cat_names)\n",
        "for feature in num_names:\n",
        "    df[feature] = pd.to_numeric(df[feature], errors = 'coerce')\n",
        "\n",
        "fintrain = df.head(len(train_df))\n",
        "fintest = df.tail(len(test_df))"
      ],
      "metadata": {
        "id": "XDzKqapLJ2uG"
      },
      "execution_count": null,
      "outputs": []
    },
    {
      "cell_type": "markdown",
      "source": [
        "## Basic Data Vis"
      ],
      "metadata": {
        "id": "wOKWt0YCeo1b"
      }
    },
    {
      "cell_type": "code",
      "source": [
        "fintrain.hist(column = num_names, figsize= (9, 9))"
      ],
      "metadata": {
        "colab": {
          "base_uri": "https://localhost:8080/",
          "height": 727
        },
        "id": "a0ypxaZwe2xt",
        "outputId": "bcbaf3c4-4e7d-48d7-a1ae-f372a41049e5"
      },
      "execution_count": null,
      "outputs": [
        {
          "output_type": "execute_result",
          "data": {
            "text/plain": [
              "array([[<matplotlib.axes._subplots.AxesSubplot object at 0x7fd0b8a70410>,\n",
              "        <matplotlib.axes._subplots.AxesSubplot object at 0x7fd0b77ab710>,\n",
              "        <matplotlib.axes._subplots.AxesSubplot object at 0x7fd0b7766d10>],\n",
              "       [<matplotlib.axes._subplots.AxesSubplot object at 0x7fd0b7728350>,\n",
              "        <matplotlib.axes._subplots.AxesSubplot object at 0x7fd0b76dd950>,\n",
              "        <matplotlib.axes._subplots.AxesSubplot object at 0x7fd0b7692f50>],\n",
              "       [<matplotlib.axes._subplots.AxesSubplot object at 0x7fd0b7654610>,\n",
              "        <matplotlib.axes._subplots.AxesSubplot object at 0x7fd0b768bb50>,\n",
              "        <matplotlib.axes._subplots.AxesSubplot object at 0x7fd0b768bb90>]],\n",
              "      dtype=object)"
            ]
          },
          "metadata": {},
          "execution_count": 16
        },
        {
          "output_type": "display_data",
          "data": {
            "image/png": "[encoded data removed]",
            "text/plain": [
              "<Figure size 648x648 with 9 Axes>"
            ]
          },
          "metadata": {
            "needs_background": "light"
          }
        }
      ]
    },
    {
      "cell_type": "markdown",
      "source": [
        "From these histograms, we learn a bit about our numerical variables in our dataset. There is nothing really out of the ordinary here. There are lower bedrooms and beds that seem fairly correlated and are both skewed right, which in turn looks fairly similarly to the \"Acommodates\" variable. Most bnbs have at least 4 essentials, although, there is a good bit of variability in cooking. This might be a determining factor for some consumers. Number of reviews has a lower mean as well, a very high mode at 1, and something we might want to be concerned about as it would heavily bias the review scores rating upward. As such, we add an interaction term between rating and number of reviews in the above code. Finally, we can see there is a very heavy bias for lower prices, which makes sense for airbnbs."
      ],
      "metadata": {
        "id": "BTmYDtZjfmqY"
      }
    },
    {
      "cell_type": "code",
      "source": [
        "fig = plt.figure()\n",
        "ax = fig.add_subplot(111)\n",
        "train_numerics = fintrain[num_names]\n",
        "axs=ax.matshow(train_numerics.corr())\n",
        "fig.colorbar(axs)\n",
        "ticks = np.arange(0,9,1)\n",
        "ax.set_yticks(ticks)\n",
        "ax.set_yticklabels(num_names)"
      ],
      "metadata": {
        "colab": {
          "base_uri": "https://localhost:8080/",
          "height": 427
        },
        "id": "bfokvEqLg8OE",
        "outputId": "eaac4b3a-5253-4ef6-83dc-c3e0e0e181ec"
      },
      "execution_count": null,
      "outputs": [
        {
          "output_type": "execute_result",
          "data": {
            "text/plain": [
              "[Text(0, 0, 'Accommodates'),\n",
              " Text(0, 0, 'Bedrooms'),\n",
              " Text(0, 0, 'Beds'),\n",
              " Text(0, 0, 'Essentials'),\n",
              " Text(0, 0, 'Cooking'),\n",
              " Text(0, 0, 'Number_of_reviews'),\n",
              " Text(0, 0, 'Review_scores_rating'),\n",
              " Text(0, 0, 'Price'),\n",
              " Text(0, 0, 'Review_num_score')]"
            ]
          },
          "metadata": {},
          "execution_count": 17
        },
        {
          "output_type": "display_data",
          "data": {
            "image/png": "[encoded data removed]",
            "text/plain": [
              "<Figure size 432x288 with 2 Axes>"
            ]
          },
          "metadata": {
            "needs_background": "light"
          }
        }
      ]
    },
    {
      "cell_type": "markdown",
      "source": [
        "From this correlation matrix, we can see that \"Accomodates\", \"Bedrooms\", and \"Beds\" are all very correlated with one another. This makes a lot of sense given they are all features that relay information about housing at a bnb. However, we will not opt to reduce dimensions here for several reasons. First, the actual number of bedrooms might be of importance to a group of people trying to book an airbnb for privacy concerns. Additionally, the number \"accomodates\" can be enforced by airbnb hosts and so therefore is something that consumers have to abide by regardless of how many people think they can bring into the bnb. Hence, we keep all these variables indepedent. Finally, we see number of reviews and review num score are highly correlated. This makes sense as they were engineered as such to capture an interaction."
      ],
      "metadata": {
        "id": "Eua96Jbqk8xg"
      }
    },
    {
      "cell_type": "markdown",
      "source": [
        "## Models!!"
      ],
      "metadata": {
        "id": "vwLdFMTXok9k"
      }
    },
    {
      "cell_type": "code",
      "source": [
        "X = fintrain.drop(['id','Decision'], axis=1).to_numpy()\n",
        "y = fintrain['Decision'].to_numpy()\n",
        "\n",
        "X_train, X_test, y_train, y_test = train_test_split(X,y, test_size=0.2, random_state=1)"
      ],
      "metadata": {
        "id": "Dme5d2YMonH0"
      },
      "execution_count": null,
      "outputs": []
    },
    {
      "cell_type": "markdown",
      "source": [
        "### SVM"
      ],
      "metadata": {
        "id": "lz55sDyxpVnw"
      }
    },
    {
      "cell_type": "code",
      "source": [
        "params_svm = {\n",
        "    'C' : [1, 0.1, 10],\n",
        "    'gamma' : [1,1/X_train.shape[1], 2/X_train.shape[1],1/(2*X_train.shape[1]),20/(X_train.shape[1])]\n",
        "}\n",
        "\n",
        "svm = GridSearchCV(\n",
        "    SVC(random_state = 0, kernel=\"rbf\"),\n",
        "    param_grid = params_svm,\n",
        "    scoring = 'accuracy',\n",
        "    cv = 5,\n",
        "    n_jobs = 10\n",
        ")\n",
        "\n",
        "svm.fit(X_train,y_train)\n",
        "# 4 minutes 13  seconds"
      ],
      "metadata": {
        "colab": {
          "base_uri": "https://localhost:8080/"
        },
        "id": "M8Ez7IyxpZug",
        "outputId": "60e3b5de-012d-49e7-d693-7b8281c26ec4"
      },
      "execution_count": null,
      "outputs": [
        {
          "output_type": "execute_result",
          "data": {
            "text/plain": [
              "GridSearchCV(cv=5, estimator=SVC(random_state=0), n_jobs=10,\n",
              "             param_grid={'C': [1, 0.1, 10],\n",
              "                         'gamma': [1, 0.007692307692307693,\n",
              "                                   0.015384615384615385, 0.0038461538461538464,\n",
              "                                   0.15384615384615385]},\n",
              "             scoring='accuracy')"
            ]
          },
          "metadata": {},
          "execution_count": 58
        }
      ]
    },
    {
      "cell_type": "code",
      "source": [
        "print(\"Parameters: \" + str(svm.best_params_))\n",
        "print(\"Best Accuracy: \" + str(svm.best_score_))"
      ],
      "metadata": {
        "colab": {
          "base_uri": "https://localhost:8080/"
        },
        "id": "5YRbz0o0snEQ",
        "outputId": "7b2672be-066c-4156-b710-f058c4a425dd"
      },
      "execution_count": null,
      "outputs": [
        {
          "output_type": "stream",
          "name": "stdout",
          "text": [
            "Parameters: {'C': 10, 'gamma': 0.15384615384615385}\n",
            "Best Accuracy: 0.7657305383355957\n"
          ]
        }
      ]
    },
    {
      "cell_type": "code",
      "source": [
        "tr_svm_predic = svm.predict(X_train)\n",
        "test_svm_predic = svm.predict(X_test)\n",
        "\n",
        "print(\"SVM Training Confusion Matrix\")\n",
        "tr_svm_conf = confusion_matrix(y_train,tr_svm_predic)\n",
        "print(tr_svm_conf)\n",
        "print(\"SVM Training Accuracy: \" + str(np.trace(tr_svm_conf)/X_train.shape[0]))\n",
        "print(\"\\nSVM Testing Confusion Matrix\")\n",
        "test_svm_conf = confusion_matrix(y_test,test_svm_predic)\n",
        "print(test_svm_conf)\n",
        "print(\"SVM Testing Accuracy: \" + str(np.trace(test_svm_conf)/X_test.shape[0]))"
      ],
      "metadata": {
        "colab": {
          "base_uri": "https://localhost:8080/"
        },
        "id": "jrfL8ESNs9og",
        "outputId": "b7753260-4a97-4038-cc94-b981ba4cf8e5"
      },
      "execution_count": null,
      "outputs": [
        {
          "output_type": "stream",
          "name": "stdout",
          "text": [
            "SVM Training Confusion Matrix\n",
            "[[2188    0]\n",
            " [   0 3788]]\n",
            "SVM Training Accuracy: 1.0\n",
            "\n",
            "SVM Testing Confusion Matrix\n",
            "[[228 320]\n",
            " [ 18 929]]\n",
            "SVM Testing Accuracy: 0.7739130434782608\n"
          ]
        }
      ]
    },
    {
      "cell_type": "code",
      "source": [
        "plot_roc_curve(svm, X_test, y_test)"
      ],
      "metadata": {
        "colab": {
          "base_uri": "https://localhost:8080/",
          "height": 351
        },
        "id": "gC32aj6Nwa8X",
        "outputId": "a58d9af0-ae35-4e2b-b061-09bc0138f833"
      },
      "execution_count": null,
      "outputs": [
        {
          "output_type": "stream",
          "name": "stderr",
          "text": [
            "/usr/local/lib/python3.7/dist-packages/sklearn/utils/deprecation.py:87: FutureWarning: Function plot_roc_curve is deprecated; Function `plot_roc_curve` is deprecated in 1.0 and will be removed in 1.2. Use one of the class methods: RocCurveDisplay.from_predictions or RocCurveDisplay.from_estimator.\n",
            "  warnings.warn(msg, category=FutureWarning)\n"
          ]
        },
        {
          "output_type": "execute_result",
          "data": {
            "text/plain": [
              "<sklearn.metrics._plot.roc_curve.RocCurveDisplay at 0x7fd094269d50>"
            ]
          },
          "metadata": {},
          "execution_count": 61
        },
        {
          "output_type": "display_data",
          "data": {
            "image/png": "[encoded data removed]",
            "text/plain": [
              "<Figure size 432x288 with 1 Axes>"
            ]
          },
          "metadata": {
            "needs_background": "light"
          }
        }
      ]
    },
    {
      "cell_type": "markdown",
      "source": [
        "We observe pretty good CV accuracy at almost 76.6%, however, when we observe the training and testing accuracy, even though they are not substantially different, it is clear that we are overfitting. The training accuracy hits around 100% while the testing accuracy is at 77.39%. After messing around with some other gamma and C values individually, it's clear that increasing gamma's value increases both training and testing accuracy, but also increases overfitting substantially. It's also clear that our model is getting a lot more false positives and so therefore choosing to predict positive more often than it should.\n",
        "\n",
        "Based on our ROC curve, we can see that this has an AUC of .75, so it has a good bit of distance from 1 and we could definitely stand to improve the overfitting if we were to decrease gamma. However, this would also decrease accuracy and therefore we would have to weigh that tradeoff based on the context."
      ],
      "metadata": {
        "id": "4g5uJq4luDIt"
      }
    },
    {
      "cell_type": "markdown",
      "source": [
        "## Logistic Regression"
      ],
      "metadata": {
        "id": "MvXWldKrxFWy"
      }
    },
    {
      "cell_type": "code",
      "source": [
        "params_logit = {\n",
        "    'penalty' : ['l2', 'none'],\n",
        "    'C' : [0.01, 0.1, 1, 10, 100]\n",
        "}\n",
        "\n",
        "logit = GridSearchCV(\n",
        "    LogisticRegression(random_state = 420, solver=\"newton-cg\"),\n",
        "    param_grid = params_logit,\n",
        "    scoring = 'accuracy',\n",
        "    cv = 5,\n",
        "    n_jobs = 10\n",
        ")\n",
        "\n",
        "logit.fit(X_train, y_train)\n",
        "# 3m 44s"
      ],
      "metadata": {
        "colab": {
          "base_uri": "https://localhost:8080/"
        },
        "id": "t-QA7CeSxtPm",
        "outputId": "1644878b-057a-4267-e0c1-634e6a954c17"
      },
      "execution_count": null,
      "outputs": [
        {
          "output_type": "stream",
          "name": "stderr",
          "text": [
            "/usr/local/lib/python3.7/dist-packages/sklearn/utils/optimize.py:212: ConvergenceWarning: newton-cg failed to converge. Increase the number of iterations.\n",
            "  ConvergenceWarning,\n"
          ]
        },
        {
          "output_type": "execute_result",
          "data": {
            "text/plain": [
              "GridSearchCV(cv=5,\n",
              "             estimator=LogisticRegression(random_state=420, solver='newton-cg'),\n",
              "             n_jobs=10,\n",
              "             param_grid={'C': [0.01, 0.1, 1, 10, 100],\n",
              "                         'penalty': ['l2', 'none']},\n",
              "             scoring='accuracy')"
            ]
          },
          "metadata": {},
          "execution_count": 70
        }
      ]
    },
    {
      "cell_type": "code",
      "source": [
        "print(\"Parameters: \" + str(logit.best_params_))\n",
        "print(\"Best Accuracy: \" + str(logit.best_score_))"
      ],
      "metadata": {
        "colab": {
          "base_uri": "https://localhost:8080/"
        },
        "id": "LMdFvs2_zQYr",
        "outputId": "d10141af-ca34-4143-99bc-f89adfc4b9f4"
      },
      "execution_count": null,
      "outputs": [
        {
          "output_type": "stream",
          "name": "stdout",
          "text": [
            "Parameters: {'C': 100, 'penalty': 'l2'}\n",
            "Best Accuracy: 0.69946292383258\n"
          ]
        }
      ]
    },
    {
      "cell_type": "code",
      "source": [
        "tr_logit_predic = logit.predict(X_train)\n",
        "test_logit_predic = logit.predict(X_test)\n",
        "\n",
        "print(\"Logit Training Confusion Matrix\")\n",
        "tr_logit_conf = confusion_matrix(y_train,tr_logit_predic)\n",
        "print(tr_logit_conf)\n",
        "print(\"Logit Training Accuracy: \" + str(np.trace(tr_logit_conf)/X_train.shape[0]))\n",
        "print(\"\\nLogit Testing Confusion Matrix\")\n",
        "test_logit_conf = confusion_matrix(y_test,test_logit_predic)\n",
        "print(test_logit_conf)\n",
        "print(\"Logit Testing Accuracy: \" + str(np.trace(test_logit_conf)/X_test.shape[0]))"
      ],
      "metadata": {
        "colab": {
          "base_uri": "https://localhost:8080/"
        },
        "id": "_4kw544q2dbU",
        "outputId": "7060d5a4-940a-40bb-87c4-8a1f38d7f353"
      },
      "execution_count": null,
      "outputs": [
        {
          "output_type": "stream",
          "name": "stdout",
          "text": [
            "Logit Training Confusion Matrix\n",
            "[[ 974 1214]\n",
            " [ 525 3263]]\n",
            "Logit Training Accuracy: 0.7090026773761714\n",
            "\n",
            "Logit Testing Confusion Matrix\n",
            "[[264 284]\n",
            " [111 836]]\n",
            "Logit Testing Accuracy: 0.7357859531772575\n"
          ]
        }
      ]
    },
    {
      "cell_type": "code",
      "source": [
        "plot_roc_curve(logit, X_test, y_test)"
      ],
      "metadata": {
        "colab": {
          "base_uri": "https://localhost:8080/",
          "height": 351
        },
        "id": "xsC4WaAd3ti9",
        "outputId": "2d8d34ea-b918-4899-d7a3-32cb19793b6c"
      },
      "execution_count": null,
      "outputs": [
        {
          "output_type": "stream",
          "name": "stderr",
          "text": [
            "/usr/local/lib/python3.7/dist-packages/sklearn/utils/deprecation.py:87: FutureWarning: Function plot_roc_curve is deprecated; Function `plot_roc_curve` is deprecated in 1.0 and will be removed in 1.2. Use one of the class methods: RocCurveDisplay.from_predictions or RocCurveDisplay.from_estimator.\n",
            "  warnings.warn(msg, category=FutureWarning)\n"
          ]
        },
        {
          "output_type": "execute_result",
          "data": {
            "text/plain": [
              "<sklearn.metrics._plot.roc_curve.RocCurveDisplay at 0x7fd0938aec50>"
            ]
          },
          "metadata": {},
          "execution_count": 74
        },
        {
          "output_type": "display_data",
          "data": {
            "image/png": "[encoded data removed]",
            "text/plain": [
              "<Figure size 432x288 with 1 Axes>"
            ]
          },
          "metadata": {
            "needs_background": "light"
          }
        }
      ]
    },
    {
      "cell_type": "markdown",
      "source": [
        "We observe similar but lower CV accuracy for our logit regression at 69.9% with an L-2 penalty and a regularization parameter of 100. This regularization ends up being really good for us because, as we can see, we get higher testing accuracy than we do training accuracy, so we can be fairly certain we are not overfitting. In addition, given that this is only marginally lower accuracy than our wildly overfit SVM and comes with far more interpretability, I would be inclined to use this model more for decisions that matter as we can at least understand why the model makes the decisions it does. Once again, however, just like the SVM, it tends to massively overpredict false positives.\n",
        "\n",
        "Our ROC curve is only marginally better with an AUC of 0.77."
      ],
      "metadata": {
        "id": "jdF7s3qB23Dv"
      }
    },
    {
      "cell_type": "markdown",
      "source": [
        "## Adaboost"
      ],
      "metadata": {
        "id": "OGlXQQYc37h9"
      }
    },
    {
      "cell_type": "code",
      "source": [
        "params_ada = {\n",
        "    'n_estimators' : [10, 50, 100],\n",
        "    'learning_rate' : [0.1, 0.5, 1, 5, 10]\n",
        "}\n",
        "\n",
        "ada = GridSearchCV(\n",
        "    AdaBoostClassifier(random_state = 13050),\n",
        "    param_grid = params_ada,\n",
        "    scoring = 'accuracy',\n",
        "    cv = 5,\n",
        "    n_jobs = 10\n",
        ")\n",
        "\n",
        "ada.fit(X_train, y_train)\n",
        "# 3m 7s"
      ],
      "metadata": {
        "colab": {
          "base_uri": "https://localhost:8080/"
        },
        "id": "ijLL06FM4E0s",
        "outputId": "d4968810-f8b8-4919-b1d3-2bb2f52264fa"
      },
      "execution_count": null,
      "outputs": [
        {
          "output_type": "execute_result",
          "data": {
            "text/plain": [
              "GridSearchCV(cv=5, estimator=AdaBoostClassifier(random_state=13050), n_jobs=10,\n",
              "             param_grid={'learning_rate': [0.1, 0.5, 1, 5, 10],\n",
              "                         'n_estimators': [10, 50, 100]},\n",
              "             scoring='accuracy')"
            ]
          },
          "metadata": {},
          "execution_count": 76
        }
      ]
    },
    {
      "cell_type": "code",
      "source": [
        "print(\"Parameters: \" + str(ada.best_params_))\n",
        "print(\"Best Accuracy: \" + str(ada.best_score_))"
      ],
      "metadata": {
        "colab": {
          "base_uri": "https://localhost:8080/"
        },
        "id": "YTv7PPQt5wqn",
        "outputId": "a396dc14-5fcf-4697-fb7d-e3f1159c0f27"
      },
      "execution_count": null,
      "outputs": [
        {
          "output_type": "stream",
          "name": "stdout",
          "text": [
            "Parameters: {'learning_rate': 1, 'n_estimators': 100}\n",
            "Best Accuracy: 0.7282446369348315\n"
          ]
        }
      ]
    },
    {
      "cell_type": "code",
      "source": [
        "tr_ada_predic = ada.predict(X_train)\n",
        "test_ada_predic = ada.predict(X_test)\n",
        "\n",
        "print(\"AdaBoost Training Confusion Matrix\")\n",
        "tr_ada_conf = confusion_matrix(y_train,tr_ada_predic)\n",
        "print(tr_ada_conf)\n",
        "print(\"AdaBoost Training Accuracy: \" + str(np.trace(tr_ada_conf)/X_train.shape[0]))\n",
        "print(\"\\nAdaBoost Testing Confusion Matrix\")\n",
        "test_ada_conf = confusion_matrix(y_test,test_ada_predic)\n",
        "print(test_ada_conf)\n",
        "print(\"AdaBoost Testing Accuracy: \" + str(np.trace(test_ada_conf)/X_test.shape[0]))"
      ],
      "metadata": {
        "colab": {
          "base_uri": "https://localhost:8080/"
        },
        "id": "6o2sFARG6AfY",
        "outputId": "71569744-9f83-4735-a7bf-3d05ca31ddcb"
      },
      "execution_count": null,
      "outputs": [
        {
          "output_type": "stream",
          "name": "stdout",
          "text": [
            "AdaBoost Training Confusion Matrix\n",
            "[[1146 1042]\n",
            " [ 484 3304]]\n",
            "AdaBoost Training Accuracy: 0.7446452476572959\n",
            "\n",
            "AdaBoost Testing Confusion Matrix\n",
            "[[280 268]\n",
            " [124 823]]\n",
            "AdaBoost Testing Accuracy: 0.7377926421404682\n"
          ]
        }
      ]
    },
    {
      "cell_type": "code",
      "source": [
        "plot_roc_curve(ada, X_test, y_test)"
      ],
      "metadata": {
        "colab": {
          "base_uri": "https://localhost:8080/",
          "height": 351
        },
        "id": "2Y0dtRoe6gFu",
        "outputId": "0698f327-6b44-490b-8267-854ca25083c9"
      },
      "execution_count": null,
      "outputs": [
        {
          "output_type": "stream",
          "name": "stderr",
          "text": [
            "/usr/local/lib/python3.7/dist-packages/sklearn/utils/deprecation.py:87: FutureWarning: Function plot_roc_curve is deprecated; Function `plot_roc_curve` is deprecated in 1.0 and will be removed in 1.2. Use one of the class methods: RocCurveDisplay.from_predictions or RocCurveDisplay.from_estimator.\n",
            "  warnings.warn(msg, category=FutureWarning)\n"
          ]
        },
        {
          "output_type": "execute_result",
          "data": {
            "text/plain": [
              "<sklearn.metrics._plot.roc_curve.RocCurveDisplay at 0x7fd0937d8a10>"
            ]
          },
          "metadata": {},
          "execution_count": 79
        },
        {
          "output_type": "display_data",
          "data": {
            "image/png": "[encoded data removed]",
            "text/plain": [
              "<Figure size 432x288 with 1 Axes>"
            ]
          },
          "metadata": {
            "needs_background": "light"
          }
        }
      ]
    },
    {
      "cell_type": "markdown",
      "source": [
        "Here we see 72.8% as our best CV accuracy which is higher than Logistic Regression but lower than SVM. When we observe our training and test accuracies, we see there isn't much of a difference, so we can be fairly confident we are not overfitting, which makes sense as AdaBoost tends not to overfit. Our testing accuracy is marginally higher than that of Logistic Regression and slightly lower than that of SVM. We also tend to, once again, make twice as many false positives than negatives\n",
        "\n",
        "Our ROC curve is once again marginally better at the best with an AUC of 0.78."
      ],
      "metadata": {
        "id": "gCKLNTaB7M_R"
      }
    },
    {
      "cell_type": "markdown",
      "source": [],
      "metadata": {
        "id": "riqC2Rcs6jfS"
      }
    },
    {
      "cell_type": "markdown",
      "source": [
        "## Submission"
      ],
      "metadata": {
        "id": "QOU6El9C8wxQ"
      }
    },
    {
      "cell_type": "code",
      "source": [
        "X_f = fintest.drop(['Decision', 'id'], axis=1).to_numpy()\n",
        "pred_ada = ada.predict(X_f)"
      ],
      "metadata": {
        "id": "i8chqqzC8ydz"
      },
      "execution_count": null,
      "outputs": []
    },
    {
      "cell_type": "code",
      "source": [
        "final = {'id': test_df['id'],\n",
        "        'Decision': pred_ada}\n",
        "final_df = pd.DataFrame(final)\n",
        "final_df.to_csv(\"finalsubmit.csv\",index=False)"
      ],
      "metadata": {
        "id": "zBwDoUKF9Rmx"
      },
      "execution_count": null,
      "outputs": []
    }
  ]
}